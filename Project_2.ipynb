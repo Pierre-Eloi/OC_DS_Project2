{
 "cells": [
  {
   "cell_type": "markdown",
   "metadata": {},
   "source": [
    "# Project 2 : Analyzing education data\n",
    "*Pierre-Eloi Ragetly*\n",
    "\n",
    "This project is part of the Open-Classrooms Data Scientist path.  \n",
    "The main objective is to realize an Exploratory Data Analysis (EDA) for a fictive EdTech company called Academy.\n",
    "\n",
    "Data will be dowloaded from the world bank web site:\n",
    "https://datacatalog.worldbank.org/dataset/education-statistics"
   ]
  },
  {
   "cell_type": "code",
   "execution_count": 1,
   "metadata": {
    "ExecuteTime": {
     "end_time": "2019-08-03T18:59:56.932593Z",
     "start_time": "2019-08-03T18:59:56.568756Z"
    },
    "scrolled": false
   },
   "outputs": [],
   "source": [
    "import analysis.dataload as ld\n",
    "import analysis.datavisu as vs"
   ]
  },
  {
   "cell_type": "markdown",
   "metadata": {
    "toc": true
   },
   "source": [
    "<h1>Table of Contents<span class=\"tocSkip\"></span></h1>\n",
    "<div class=\"toc\"><ul class=\"toc-item\"><li><span><a href=\"#Data-Collection\" data-toc-modified-id=\"Data-Collection-1\"><span class=\"toc-item-num\">1&nbsp;&nbsp;</span>Data Collection</a></span></li><li><span><a href=\"#Data-Processing\" data-toc-modified-id=\"Data-Processing-2\"><span class=\"toc-item-num\">2&nbsp;&nbsp;</span>Data Processing</a></span></li><li><span><a href=\"#Feature-engineering\" data-toc-modified-id=\"Feature-engineering-3\"><span class=\"toc-item-num\">3&nbsp;&nbsp;</span>Feature engineering</a></span></li></ul></div>"
   ]
  },
  {
   "cell_type": "markdown",
   "metadata": {},
   "source": [
    "## Data Collection"
   ]
  },
  {
   "cell_type": "markdown",
   "metadata": {},
   "source": [
    "Let's start by downloading data from the world bank web site."
   ]
  },
  {
   "cell_type": "code",
   "execution_count": 2,
   "metadata": {
    "ExecuteTime": {
     "end_time": "2019-08-03T18:59:56.937017Z",
     "start_time": "2019-08-03T18:59:56.934243Z"
    }
   },
   "outputs": [
    {
     "name": "stdout",
     "output_type": "stream",
     "text": [
      "The extracted files are:\n",
      "EdStatsSeries.csv\n",
      "EdStatsFootNote.csv\n",
      "EdStatsData.csv\n",
      "EdStatsCountry-Series.csv\n",
      "EdStatsCountry.csv\n"
     ]
    }
   ],
   "source": [
    "url = 'http://databank.worldbank.org/data/download/Edstats_csv.zip'\n",
    "list_csv = ld.download_data(url)"
   ]
  },
  {
   "cell_type": "markdown",
   "metadata": {},
   "source": [
    "Now we have to load data with pandas before starting the analyse."
   ]
  },
  {
   "cell_type": "code",
   "execution_count": 3,
   "metadata": {
    "ExecuteTime": {
     "end_time": "2019-08-03T18:59:59.565764Z",
     "start_time": "2019-08-03T18:59:56.938461Z"
    }
   },
   "outputs": [
    {
     "data": {
      "text/html": [
       "<div>\n",
       "<style scoped>\n",
       "    .dataframe tbody tr th:only-of-type {\n",
       "        vertical-align: middle;\n",
       "    }\n",
       "\n",
       "    .dataframe tbody tr th {\n",
       "        vertical-align: top;\n",
       "    }\n",
       "\n",
       "    .dataframe thead th {\n",
       "        text-align: right;\n",
       "    }\n",
       "</style>\n",
       "<table border=\"1\" class=\"dataframe\">\n",
       "  <thead>\n",
       "    <tr style=\"text-align: right;\">\n",
       "      <th></th>\n",
       "      <th>Country Name</th>\n",
       "      <th>Country Code</th>\n",
       "      <th>Indicator Name</th>\n",
       "      <th>Indicator Code</th>\n",
       "      <th>1970</th>\n",
       "      <th>1971</th>\n",
       "      <th>1972</th>\n",
       "      <th>1973</th>\n",
       "      <th>1974</th>\n",
       "      <th>1975</th>\n",
       "      <th>...</th>\n",
       "      <th>2060</th>\n",
       "      <th>2065</th>\n",
       "      <th>2070</th>\n",
       "      <th>2075</th>\n",
       "      <th>2080</th>\n",
       "      <th>2085</th>\n",
       "      <th>2090</th>\n",
       "      <th>2095</th>\n",
       "      <th>2100</th>\n",
       "      <th>Unnamed: 69</th>\n",
       "    </tr>\n",
       "  </thead>\n",
       "  <tbody>\n",
       "    <tr>\n",
       "      <th>0</th>\n",
       "      <td>Arab World</td>\n",
       "      <td>ARB</td>\n",
       "      <td>Adjusted net enrolment rate, lower secondary, ...</td>\n",
       "      <td>UIS.NERA.2</td>\n",
       "      <td>NaN</td>\n",
       "      <td>NaN</td>\n",
       "      <td>NaN</td>\n",
       "      <td>NaN</td>\n",
       "      <td>NaN</td>\n",
       "      <td>NaN</td>\n",
       "      <td>...</td>\n",
       "      <td>NaN</td>\n",
       "      <td>NaN</td>\n",
       "      <td>NaN</td>\n",
       "      <td>NaN</td>\n",
       "      <td>NaN</td>\n",
       "      <td>NaN</td>\n",
       "      <td>NaN</td>\n",
       "      <td>NaN</td>\n",
       "      <td>NaN</td>\n",
       "      <td>NaN</td>\n",
       "    </tr>\n",
       "    <tr>\n",
       "      <th>1</th>\n",
       "      <td>Arab World</td>\n",
       "      <td>ARB</td>\n",
       "      <td>Adjusted net enrolment rate, lower secondary, ...</td>\n",
       "      <td>UIS.NERA.2.F</td>\n",
       "      <td>NaN</td>\n",
       "      <td>NaN</td>\n",
       "      <td>NaN</td>\n",
       "      <td>NaN</td>\n",
       "      <td>NaN</td>\n",
       "      <td>NaN</td>\n",
       "      <td>...</td>\n",
       "      <td>NaN</td>\n",
       "      <td>NaN</td>\n",
       "      <td>NaN</td>\n",
       "      <td>NaN</td>\n",
       "      <td>NaN</td>\n",
       "      <td>NaN</td>\n",
       "      <td>NaN</td>\n",
       "      <td>NaN</td>\n",
       "      <td>NaN</td>\n",
       "      <td>NaN</td>\n",
       "    </tr>\n",
       "    <tr>\n",
       "      <th>2</th>\n",
       "      <td>Arab World</td>\n",
       "      <td>ARB</td>\n",
       "      <td>Adjusted net enrolment rate, lower secondary, ...</td>\n",
       "      <td>UIS.NERA.2.GPI</td>\n",
       "      <td>NaN</td>\n",
       "      <td>NaN</td>\n",
       "      <td>NaN</td>\n",
       "      <td>NaN</td>\n",
       "      <td>NaN</td>\n",
       "      <td>NaN</td>\n",
       "      <td>...</td>\n",
       "      <td>NaN</td>\n",
       "      <td>NaN</td>\n",
       "      <td>NaN</td>\n",
       "      <td>NaN</td>\n",
       "      <td>NaN</td>\n",
       "      <td>NaN</td>\n",
       "      <td>NaN</td>\n",
       "      <td>NaN</td>\n",
       "      <td>NaN</td>\n",
       "      <td>NaN</td>\n",
       "    </tr>\n",
       "  </tbody>\n",
       "</table>\n",
       "<p>3 rows × 70 columns</p>\n",
       "</div>"
      ],
      "text/plain": [
       "  Country Name Country Code  \\\n",
       "0   Arab World          ARB   \n",
       "1   Arab World          ARB   \n",
       "2   Arab World          ARB   \n",
       "\n",
       "                                      Indicator Name  Indicator Code  1970  \\\n",
       "0  Adjusted net enrolment rate, lower secondary, ...      UIS.NERA.2   NaN   \n",
       "1  Adjusted net enrolment rate, lower secondary, ...    UIS.NERA.2.F   NaN   \n",
       "2  Adjusted net enrolment rate, lower secondary, ...  UIS.NERA.2.GPI   NaN   \n",
       "\n",
       "   1971  1972  1973  1974  1975  ...  2060  2065  2070  2075  2080  2085  \\\n",
       "0   NaN   NaN   NaN   NaN   NaN  ...   NaN   NaN   NaN   NaN   NaN   NaN   \n",
       "1   NaN   NaN   NaN   NaN   NaN  ...   NaN   NaN   NaN   NaN   NaN   NaN   \n",
       "2   NaN   NaN   NaN   NaN   NaN  ...   NaN   NaN   NaN   NaN   NaN   NaN   \n",
       "\n",
       "   2090  2095  2100  Unnamed: 69  \n",
       "0   NaN   NaN   NaN          NaN  \n",
       "1   NaN   NaN   NaN          NaN  \n",
       "2   NaN   NaN   NaN          NaN  \n",
       "\n",
       "[3 rows x 70 columns]"
      ]
     },
     "metadata": {},
     "output_type": "display_data"
    }
   ],
   "source": [
    "csv_file = list_csv[2]\n",
    "data = ld.load_data(csv_file)"
   ]
  },
  {
   "cell_type": "markdown",
   "metadata": {},
   "source": [
    "## Data Processing"
   ]
  },
  {
   "cell_type": "markdown",
   "metadata": {},
   "source": [
    "Let's see first how many rows and columns contained data. To do so we use the `info()` method from pandas."
   ]
  },
  {
   "cell_type": "code",
   "execution_count": 4,
   "metadata": {
    "ExecuteTime": {
     "end_time": "2019-08-03T18:59:59.791905Z",
     "start_time": "2019-08-03T18:59:59.567210Z"
    }
   },
   "outputs": [
    {
     "name": "stdout",
     "output_type": "stream",
     "text": [
      "<class 'pandas.core.frame.DataFrame'>\n",
      "RangeIndex: 886930 entries, 0 to 886929\n",
      "Data columns (total 70 columns):\n",
      "Country Name      886930 non-null object\n",
      "Country Code      886930 non-null object\n",
      "Indicator Name    886930 non-null object\n",
      "Indicator Code    886930 non-null object\n",
      "1970              72288 non-null float64\n",
      "1971              35537 non-null float64\n",
      "1972              35619 non-null float64\n",
      "1973              35545 non-null float64\n",
      "1974              35730 non-null float64\n",
      "1975              87306 non-null float64\n",
      "1976              37483 non-null float64\n",
      "1977              37574 non-null float64\n",
      "1978              37576 non-null float64\n",
      "1979              36809 non-null float64\n",
      "1980              89122 non-null float64\n",
      "1981              38777 non-null float64\n",
      "1982              37511 non-null float64\n",
      "1983              38460 non-null float64\n",
      "1984              38606 non-null float64\n",
      "1985              90296 non-null float64\n",
      "1986              39372 non-null float64\n",
      "1987              38641 non-null float64\n",
      "1988              38552 non-null float64\n",
      "1989              37540 non-null float64\n",
      "1990              124405 non-null float64\n",
      "1991              74437 non-null float64\n",
      "1992              75543 non-null float64\n",
      "1993              75793 non-null float64\n",
      "1994              77462 non-null float64\n",
      "1995              131361 non-null float64\n",
      "1996              76807 non-null float64\n",
      "1997              73453 non-null float64\n",
      "1998              84914 non-null float64\n",
      "1999              118839 non-null float64\n",
      "2000              176676 non-null float64\n",
      "2001              123509 non-null float64\n",
      "2002              124205 non-null float64\n",
      "2003              130363 non-null float64\n",
      "2004              128814 non-null float64\n",
      "2005              184108 non-null float64\n",
      "2006              140312 non-null float64\n",
      "2007              137272 non-null float64\n",
      "2008              134387 non-null float64\n",
      "2009              142108 non-null float64\n",
      "2010              242442 non-null float64\n",
      "2011              146012 non-null float64\n",
      "2012              147264 non-null float64\n",
      "2013              137509 non-null float64\n",
      "2014              113789 non-null float64\n",
      "2015              131058 non-null float64\n",
      "2016              16460 non-null float64\n",
      "2017              143 non-null float64\n",
      "2020              51436 non-null float64\n",
      "2025              51436 non-null float64\n",
      "2030              51436 non-null float64\n",
      "2035              51436 non-null float64\n",
      "2040              51436 non-null float64\n",
      "2045              51436 non-null float64\n",
      "2050              51436 non-null float64\n",
      "2055              51436 non-null float64\n",
      "2060              51436 non-null float64\n",
      "2065              51436 non-null float64\n",
      "2070              51436 non-null float64\n",
      "2075              51436 non-null float64\n",
      "2080              51436 non-null float64\n",
      "2085              51436 non-null float64\n",
      "2090              51436 non-null float64\n",
      "2095              51436 non-null float64\n",
      "2100              51436 non-null float64\n",
      "Unnamed: 69       0 non-null float64\n",
      "dtypes: float64(66), object(4)\n",
      "memory usage: 473.7+ MB\n"
     ]
    }
   ],
   "source": [
    "data.info()"
   ]
  },
  {
   "cell_type": "markdown",
   "metadata": {},
   "source": [
    "These method display several interesting values. At the top we can see how many rows and columns are contained by this dataframe:  \n",
    "- 886,930 rows\n",
    "- 70 columns\n",
    "\n",
    "We can also notice that most of column labels correspond to a specific year. There are both, legacy data &ndash; from 1970 to 2017 with a step of 1 year &ndash; and forcasted data &ndash; from 2020 to 2100 with a step of 5 years.  \n",
    "For each row we have a given indicator for a given country. All details about the different indicators can be find in the \"EdStatsSeries.csv\" file.\n",
    "\n",
    "In this dataset many data are missing. Indeed, excepted name and code columns, at least 80% of data are mising.\n",
    "Before to look how many countries and indicators are included into this dataset, let's check if this datset contains any duplicate values. For that we use the `duplicated` method of pandas.\n"
   ]
  },
  {
   "cell_type": "code",
   "execution_count": 5,
   "metadata": {
    "ExecuteTime": {
     "end_time": "2019-08-03T19:00:00.128804Z",
     "start_time": "2019-08-03T18:59:59.793054Z"
    }
   },
   "outputs": [
    {
     "name": "stdout",
     "output_type": "stream",
     "text": [
      "There are 0 duplicates.\n",
      "There are 242 different countries.\n",
      "There are 3665 different indicators.\n"
     ]
    }
   ],
   "source": [
    "# display the number of duplicates with duplicated method.\n",
    "col_labels = data.columns\n",
    "n_duplicates = data.duplicated(col_labels[:4]).sum()\n",
    "print(\"There are {} duplicates.\".format(n_duplicates))\n",
    "\n",
    "# display the number of countries\n",
    "n_countries = data['Country Code'].unique().size\n",
    "print(\"There are {} different countries.\".format(n_countries))\n",
    "\n",
    "# display the number of indicators\n",
    "n_ind = data['Indicator Code'].unique().size\n",
    "print(\"There are {} different indicators.\".format(n_ind))"
   ]
  },
  {
   "cell_type": "markdown",
   "metadata": {},
   "source": [
    "Though does not include any duplicates, the dataset contains 3,665 indicators for 65 different years! That is a lot, we cannot keep all these features for our analysis. Especially knowing that many data are missing. The next step is to select a couple of years and keep only the most relevant indicators."
   ]
  },
  {
   "cell_type": "markdown",
   "metadata": {},
   "source": [
    "## Feature engineering"
   ]
  },
  {
   "cell_type": "code",
   "execution_count": null,
   "metadata": {},
   "outputs": [],
   "source": []
  }
 ],
 "metadata": {
  "kernelspec": {
   "display_name": "Python 3",
   "language": "python",
   "name": "python3"
  },
  "language_info": {
   "codemirror_mode": {
    "name": "ipython",
    "version": 3
   },
   "file_extension": ".py",
   "mimetype": "text/x-python",
   "name": "python",
   "nbconvert_exporter": "python",
   "pygments_lexer": "ipython3",
   "version": "3.7.3"
  },
  "latex_envs": {
   "LaTeX_envs_menu_present": true,
   "autoclose": false,
   "autocomplete": true,
   "bibliofile": "biblio.bib",
   "cite_by": "apalike",
   "current_citInitial": 1,
   "eqLabelWithNumbers": true,
   "eqNumInitial": 1,
   "hotkeys": {
    "equation": "Ctrl-E",
    "itemize": "Ctrl-I"
   },
   "labels_anchors": false,
   "latex_user_defs": false,
   "report_style_numbering": false,
   "user_envs_cfg": false
  },
  "toc": {
   "base_numbering": 1,
   "nav_menu": {},
   "number_sections": true,
   "sideBar": true,
   "skip_h1_title": true,
   "title_cell": "Table of Contents",
   "title_sidebar": "Contents",
   "toc_cell": true,
   "toc_position": {
    "height": "calc(100% - 180px)",
    "left": "10px",
    "top": "150px",
    "width": "371px"
   },
   "toc_section_display": true,
   "toc_window_display": false
  }
 },
 "nbformat": 4,
 "nbformat_minor": 2
}
